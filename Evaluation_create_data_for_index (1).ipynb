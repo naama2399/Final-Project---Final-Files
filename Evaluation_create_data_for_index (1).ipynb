{
 "cells": [
  {
   "cell_type": "code",
   "execution_count": 1,
   "metadata": {
    "id": "9HIy9-2iNZs_"
   },
   "outputs": [],
   "source": [
    "import warnings\n",
    "from transformers import logging\n",
    "import os\n",
    "import json\n",
    "import pandas as pd\n",
    "import torch\n",
    "import torch.nn as nn\n",
    "from torch.utils.data import DataLoader, TensorDataset\n",
    "from transformers import AutoModel, AutoTokenizer\n",
    "from sklearn.preprocessing import LabelEncoder\n",
    "from sklearn.metrics import accuracy_score, f1_score, classification_report\n",
    "import zipfile\n",
    "import torch\n",
    "import pandas as pd\n",
    "import matplotlib.pyplot as plt\n",
    "import numpy as np\n",
    "\n",
    "\n",
    "device = torch.device(\"cuda\" if torch.cuda.is_available() else \"cpu\")\n",
    "\n",
    "\n",
    "# suppress all Python warnings\n",
    "warnings.filterwarnings(\"ignore\")\n",
    "\n",
    "# suppress Hugging Face `UserWarning`s and model loading messages\n",
    "logging.set_verbosity_error()"
   ]
  },
  {
   "cell_type": "code",
   "execution_count": 2,
   "metadata": {
    "colab": {
     "base_uri": "https://localhost:8080/"
    },
    "id": "k_hmAg3z-v3X",
    "outputId": "905eca3f-282c-4155-c926-712b6ba9506d"
   },
   "outputs": [
    {
     "name": "stdout",
     "output_type": "stream",
     "text": [
      "✅ Extracted to heBERT_complete_model\n",
      "✅ Extracted to alephbert_complete_model\n",
      "✅ Extracted to alephbertgimmel_complete_model\n"
     ]
    }
   ],
   "source": [
    "def extract(zip_path, extract_dir):\n",
    "    \"\"\"\n",
    "    Unzip zip_path into extract_dir if extract_dir does not already exist.\n",
    "    \"\"\"\n",
    "    if not os.path.isdir(extract_dir):\n",
    "        with zipfile.ZipFile(zip_path, 'r') as z:\n",
    "            z.extractall(extract_dir)\n",
    "        print(f\"✅ Extracted to {extract_dir}\")\n",
    "\n",
    "archives = [\n",
    "    ('/content/heBERT_model.zip',          'heBERT_complete_model'),\n",
    "    ('/content/alephbert_model.zip',       'alephbert_complete_model'),\n",
    "    ('/content/alephbertGimel_model.zip',  'alephbertgimmel_complete_model'),\n",
    "]\n",
    "\n",
    "\n",
    "for zip_path, extract_dir in archives:\n",
    "    extract(zip_path, extract_dir)"
   ]
  },
  {
   "cell_type": "code",
   "execution_count": 7,
   "metadata": {
    "id": "N5-lj3vkHFWH"
   },
   "outputs": [],
   "source": [
    "# 1. Load and fit label encoder on training intents\n",
    "train = pd.read_csv('/content/train.csv')\n",
    "le = LabelEncoder()\n",
    "le.fit(train['intent'])\n",
    "\n",
    "# 2. Load test datasets, drop duplicates, and encode labels\n",
    "elderly_df = pd.read_csv('/content/elderly.csv').drop_duplicates().reset_index(drop=True)\n",
    "young_df   = pd.read_csv('/content/young.csv').drop_duplicates().reset_index(drop=True)\n",
    "\n",
    "for df in (elderly_df, young_df):\n",
    "    df['intent_num'] = le.transform(df['intent'])"
   ]
  },
  {
   "cell_type": "code",
   "execution_count": 8,
   "metadata": {
    "colab": {
     "base_uri": "https://localhost:8080/"
    },
    "id": "RCVjCxcYrZgA",
    "outputId": "aecb26a0-0e5b-4980-f788-4edd520fcf79"
   },
   "outputs": [
    {
     "name": "stdout",
     "output_type": "stream",
     "text": [
      "Found 3884 duplicate rows in train.csv.\n",
      "Train set size after deduplication: 2514 rows\n",
      "No duplicate rows found in elderly-test.csv.\n",
      "Elderly test set size after deduplication: 542 rows\n",
      "No duplicate rows found in young-test.csv.\n",
      "Young test set size after deduplication: 415 rows\n"
     ]
    }
   ],
   "source": [
    "# Check and remove duplicates in train\n",
    "train_duplicates = train.duplicated().sum()\n",
    "if train_duplicates > 0:\n",
    "    print(f\"Found {train_duplicates} duplicate rows in train.csv.\")\n",
    "    train = train.drop_duplicates()\n",
    "else:\n",
    "    print(\"No duplicate rows found in train.csv.\")\n",
    "print(f\"Train set size after deduplication: {len(train)} rows\")\n",
    "\n",
    "# Check and remove duplicates in elderly test set\n",
    "test_duplicates = elderly_df.duplicated().sum()\n",
    "if test_duplicates > 0:\n",
    "    print(f\"Found {test_duplicates} duplicate rows in elderly-test.csv.\")\n",
    "    elderly_df = elderly_df.drop_duplicates()\n",
    "else:\n",
    "    print(\"No duplicate rows found in elderly-test.csv.\")\n",
    "print(f\"Elderly test set size after deduplication: {len(elderly_df)} rows\")\n",
    "\n",
    "# Check and remove duplicates in young test set\n",
    "test_duplicates = young_df.duplicated().sum()\n",
    "if test_duplicates > 0:\n",
    "    print(f\"Found {test_duplicates} duplicate rows in young-test.csv.\")\n",
    "    young_df = young_df.drop_duplicates()\n",
    "else:\n",
    "    print(\"No duplicate rows found in young-test.csv.\")\n",
    "print(f\"Young test set size after deduplication: {len(young_df)} rows\")\n"
   ]
  },
  {
   "cell_type": "code",
   "execution_count": 9,
   "metadata": {
    "id": "h4-6TpRS3GQA"
   },
   "outputs": [],
   "source": [
    "# 3. Define the classification model wrapping a pretrained BERT\n",
    "class BertForIntentClassification(nn.Module):\n",
    "    def __init__(self, bert_model, num_classes):\n",
    "        super().__init__()\n",
    "        self.bert = bert_model\n",
    "        self.dropout = nn.Dropout(0.3)\n",
    "        self.classifier = nn.Linear(bert_model.config.hidden_size, num_classes)\n",
    "    def forward(self, input_ids, attention_mask):\n",
    "        outputs = self.bert(input_ids=input_ids, attention_mask=attention_mask)\n",
    "        cls_token = outputs.last_hidden_state[:, 0]  # take [CLS] token embedding\n",
    "        return self.classifier(self.dropout(cls_token))\n",
    "\n",
    "\n",
    "def load_saved_model(model_dir):\n",
    "    \"\"\"Load tokenizer, model and intent mapping from a saved folder.\"\"\"\n",
    "    import json, torch\n",
    "    from transformers import AutoModel, AutoTokenizer\n",
    "\n",
    "    # load config & intent map\n",
    "    with open(f\"{model_dir}/model_config.json\")   as f:\n",
    "        cfg = json.load(f)\n",
    "    with open(f\"{model_dir}/intent_mapping.json\") as f:\n",
    "        intent_map = json.load(f)\n",
    "\n",
    "    # load tokenizer and base transformer\n",
    "    tokenizer = AutoTokenizer.from_pretrained(f\"{model_dir}/tokenizer\")\n",
    "    base_model = AutoModel.from_pretrained(cfg[\"base_model_name\"])\n",
    "\n",
    "    # build classifier and load weights\n",
    "    model = BertForIntentClassification(base_model, cfg[\"num_classes\"])\n",
    "    state = torch.load(f\"{model_dir}/model_weights.pt\", map_location='cpu')\n",
    "    model.load_state_dict(state)\n",
    "    model.to(device)\n",
    "    model.eval()\n",
    "    return model, tokenizer, intent_map\n",
    "\n"
   ]
  },
  {
   "cell_type": "code",
   "execution_count": 10,
   "metadata": {
    "id": "9bYwYR8GDgk3"
   },
   "outputs": [],
   "source": [
    "# Encode labels\n",
    "le = LabelEncoder()\n",
    "train['intent_num'] = le.fit_transform(train['intent'])\n",
    "map_intent = dict(zip(le.transform(le.classes_), le.classes_))\n",
    "\n"
   ]
  },
  {
   "cell_type": "code",
   "execution_count": 11,
   "metadata": {
    "id": "jSmNJ0Jx4LYL"
   },
   "outputs": [],
   "source": [
    "# 5. Evaluation helper function\n",
    "def evaluate(df, label, batch_size=64):\n",
    "    texts  = df['transcript_hebrew'].tolist()\n",
    "    labels = df['intent_num'].tolist()\n",
    "\n",
    "    # Tokenize on CPU\n",
    "    enc = tokenizer(\n",
    "        texts,\n",
    "        padding=True,\n",
    "        truncation=True,\n",
    "        max_length=128,\n",
    "        return_tensors='pt'\n",
    "    )\n",
    "    # build dataset (still on CPU)\n",
    "    dataset = TensorDataset(\n",
    "        enc['input_ids'],\n",
    "        enc['attention_mask'],\n",
    "        torch.tensor(labels, dtype=torch.long)\n",
    "    )\n",
    "    loader = DataLoader(dataset, batch_size=batch_size, shuffle=False)\n",
    "\n",
    "    preds, trues = [], []\n",
    "    with torch.no_grad():\n",
    "        for input_ids, attention_mask, y in loader:\n",
    "            # move inputs to same device as model\n",
    "            input_ids      = input_ids.to(device)\n",
    "            attention_mask = attention_mask.to(device)\n",
    "\n",
    "            logits = model(input_ids, attention_mask)\n",
    "            batch_preds = torch.argmax(logits, dim=1)\n",
    "\n",
    "            # send preds back to CPU before converting\n",
    "            preds.extend(batch_preds.cpu().tolist())\n",
    "            trues.extend(y.tolist())\n",
    "\n",
    "    # compute metrics on CPU lists\n",
    "    acc = accuracy_score(trues, preds)\n",
    "    f1  = f1_score(trues, preds, average='macro')\n",
    "    print(f\"\\nFinal Evaluation on {label}:\")\n",
    "    print(f\"  Accuracy: {acc*100:.2f}%\")\n",
    "    print(f\"  Macro F1:  {f1:.4f}\\n\")\n",
    "    print(classification_report(\n",
    "        trues, preds,\n",
    "        target_names=[intent_map[str(i)] for i in sorted(set(trues + preds))]\n",
    "    ))\n",
    "\n",
    "    # return metrics + raw predictions + true labels\n",
    "    return acc, f1, preds, trues\n"
   ]
  },
  {
   "cell_type": "code",
   "execution_count": 12,
   "metadata": {
    "id": "n_AcUSC23p2Y"
   },
   "outputs": [],
   "source": [
    "def evaluate_vs_siri(df_with_label, preds, group_name, map_intent):\n",
    "    assert len(preds) == len(df_with_label), \"Mismatch between predictions and dataframe length\"\n",
    "\n",
    "    df_with_label = df_with_label.copy()\n",
    "    df_with_label[\"model_pred\"] = preds\n",
    "    df_with_label[\"is_correct\"] = df_with_label[\"intent_num\"] == df_with_label[\"model_pred\"]\n",
    "\n",
    "    # Grouping based on Siri performance\n",
    "    total = len(df_with_label)\n",
    "    siri_failures = df_with_label[df_with_label[\"label_intent\"] == 0]\n",
    "    siri_successes = df_with_label[df_with_label[\"label_intent\"] == 1]\n",
    "\n",
    "    # Model successes\n",
    "    correct_on_failures = siri_failures[\"is_correct\"].sum()\n",
    "    correct_on_successes = siri_successes[\"is_correct\"].sum()\n",
    "\n",
    "    # Accuracy rates\n",
    "    rate_correct_on_failures = correct_on_failures / len(siri_failures) if len(siri_failures) > 0 else None\n",
    "    rate_correct_on_successes = correct_on_successes / len(siri_successes) if len(siri_successes) > 0 else None\n",
    "    overall_accuracy = accuracy_score(df_with_label[\"intent_num\"], df_with_label[\"model_pred\"])\n",
    "    macro_f1 = f1_score(df_with_label[\"intent_num\"], df_with_label[\"model_pred\"], average=\"macro\")\n",
    "\n",
    "    # Summary table\n",
    "    summary = {\n",
    "        \"Group\": group_name,\n",
    "        \"Total Samples\": total,\n",
    "        \"Siri Failures\": len(siri_failures),\n",
    "        \"Siri Successes\": len(siri_successes),\n",
    "        \"Model Accuracy on Siri Failures\": f\"{rate_correct_on_failures:.2%}\" if rate_correct_on_failures is not None else \"N/A\",\n",
    "        \"Model Accuracy on Siri Successes\": f\"{rate_correct_on_successes:.2%}\" if rate_correct_on_successes is not None else \"N/A\",\n",
    "        \"Overall Accuracy\": f\"{overall_accuracy:.2%}\",\n",
    "        \"Macro F1\": f\"{macro_f1:.4f}\"\n",
    "    }\n",
    "\n",
    "    return pd.DataFrame([summary])\n"
   ]
  },
  {
   "cell_type": "code",
   "execution_count": 13,
   "metadata": {
    "colab": {
     "base_uri": "https://localhost:8080/",
     "height": 1000,
     "referenced_widgets": [
      "783726bb2e9a44c9a730bc4a31b5df31",
      "3dc61e9f55894fd682afc6242e5aac6a",
      "1614d6a5a6d241c5835f898ec1252323",
      "b4340410936443fca1a972c0b62b396c",
      "972129fc35cb4c15ae172baa3865fa8a",
      "4ea86699216040fb9d1df1159cacf5ed",
      "6ebb6420fd124fb9b4b91d1658f62b1b",
      "84f05615bd1647eabc3f9bea223932fd",
      "de8f0dbb3c084977a7b99f4995e22d66",
      "879fc62ee65047749a2c1b3e75d020be",
      "e449b251c5984bcf87f88ff93a0e6a87",
      "a89c966116f84028a285ccf402d01ffe",
      "9c9c14c0539942e5a1bb052fc4701792",
      "a0167e6b2a5247a2b3747bdbee451324",
      "09c5b2b3d0b548579107642e841086e8",
      "a24bd4e5a6c94e33aab848b053ba5c90",
      "c63977a0f2514b0ea2cee42ba0942221",
      "288d693309a34911ae60db2b901cb7d1",
      "f029e3006e1c4758855540a0d18204d2",
      "c5a4e7e5d9ec4582bc7c116edcf8e9ce",
      "f57cc6a1e2cf401a868b19c59a0f6d0f",
      "fbde59f9ebc945dbb14c9c5f06cfe842",
      "4adbcc10404c487899f99505c62b0995",
      "fbb1ef903f254408bdd70cd8af369c04",
      "094e702e54ea49b38c973e543b5472c8",
      "ba9259c49f4946268d1ba0d1a518f078",
      "90b7bf434b3f44b0a1a94f4fdc2ab064",
      "68f974dd9f22468cb36e686465aee83e",
      "15eb7eb85fe14c7ba93f172ccfed2633",
      "490833db9e2d41a38a3fa4c455a0aa01",
      "9d8f17547e9744f28bdf623700a3dce1",
      "d3efc39350624a07b0af10a9c08e15d7",
      "44c6cd999f1749f9aebba3eb78792e61",
      "3e54c6d65f4f4fbdb0089b975ac71e9f",
      "e30d7d7bcf9043638c2307dedc218fcd",
      "280a231bf3bc493c95eec8c66db299df",
      "9b82f2a77bda44f9844223f4cff30501",
      "ba87433358144c39820bca678993a24d",
      "777c282419e3454eb0fc2c437788b52f",
      "874c40e4e40a4cf9abe1e5dee234adb1",
      "aefa5e0b3d284383807d3721d2c863f8",
      "89fa1dd700744ce19afc3d30e3ec8b7d",
      "eeaf11ad361e4a3384e1c76072089ed1",
      "92acccbc2846450e9c380ffef65af9bf",
      "707ff8299e9b4a8d9b82ca761295c00a",
      "5da5ff4da09042e5a7b2ed5621599b70",
      "3c2cf43bee134209b1d5dd2b7ca4dc27",
      "8d8bb457cd9e4d7597f95c687d85e515",
      "ea16b9e92abd456ea1371fd93b436195",
      "2755dfb6334a4de4ae118761f16aae0f",
      "51c31702f4b8413c9dd867435e8bc790",
      "1a07fef0e9ed4ec3873d3d7c98a5adfb",
      "eea100c077544de6a7f5ae00258a2dd2",
      "211f994f04344df19c1a3131ac47cca1",
      "d705f45c193647e3bbcbb5e702c25da4",
      "4a30cd60563549d6a88d2c399ad6d86e",
      "459b8624f7884029a6d4c4383fd1db26",
      "32d0b8d570af429b8dd42e02d328991e",
      "f5482289d37c4b1298a99b67a964348f",
      "adee6db339174aaeb458b2d0c6ee5721",
      "57aa56e907a047a7ba5f0efb7a9f8bc4",
      "3e279b83bca04481bd42c05fdc1262ad",
      "460455777e5c4c0bac67ffea8439066f",
      "a02e2b8da7c84000bf34e2c7c488ec72",
      "7ee1f451c0b64835a0a9b47377c26032",
      "84913f450cc84ef68e79f06039c550ff",
      "4de7c3260fad430dbe47170a3d3b09c4",
      "aeb6e97fba1445479c49deeba83ea142",
      "95630692ec514366825b9c3760fbdb7d",
      "a6710312e20848bcbdb6d213195aa501",
      "ca9825f2690544af9f86fd2736bbc19b",
      "3c57b9d280c7468c8ab2b61ec3c24199",
      "43799e348c8e4dd4bb4336914eac3472",
      "35c0a1082fb64c4ebe5f68835e58cbed",
      "cf2ac038a9f84752a995120adc278439",
      "0dda4035fd7f4a1091870e7255f9ed94",
      "e80ef9702b134f63907930e078c387c5",
      "0a2b0f594cdb487987943edd3682b616",
      "aa272906e23b48a3b64dffcaeaf06919",
      "ae0691baea264065acb57a4c813e2c85",
      "b01a183a75de4ebf964eb6bf9126b1ad",
      "40a76092905540f3ab45157d63f77be0",
      "5b85d09f0b6742c4b1b1743726de3e28",
      "bbfcf51ea324465a888b51f93c8e412c",
      "50e9efc2b10f44e28d77349e92e00496",
      "4faffafc077c434c90e1a7f7790d84b7",
      "91af4646b37940ccac57e20e59b908d6",
      "70f7655e24c34767b47ff59b1747e03e"
     ]
    },
    "id": "KL-gsyuiD3Wu",
    "outputId": "c0aa3662-8bb6-4757-82b0-5e642606cf88"
   },
   "outputs": [
    {
     "data": {
      "application/vnd.jupyter.widget-view+json": {
       "model_id": "783726bb2e9a44c9a730bc4a31b5df31",
       "version_major": 2,
       "version_minor": 0
      },
      "text/plain": [
       "config.json:   0%|          | 0.00/505 [00:00<?, ?B/s]"
      ]
     },
     "metadata": {},
     "output_type": "display_data"
    },
    {
     "data": {
      "application/vnd.jupyter.widget-view+json": {
       "model_id": "a89c966116f84028a285ccf402d01ffe",
       "version_major": 2,
       "version_minor": 0
      },
      "text/plain": [
       "pytorch_model.bin:   0%|          | 0.00/438M [00:00<?, ?B/s]"
      ]
     },
     "metadata": {},
     "output_type": "display_data"
    },
    {
     "data": {
      "application/vnd.jupyter.widget-view+json": {
       "model_id": "4adbcc10404c487899f99505c62b0995",
       "version_major": 2,
       "version_minor": 0
      },
      "text/plain": [
       "model.safetensors:   0%|          | 0.00/438M [00:00<?, ?B/s]"
      ]
     },
     "metadata": {},
     "output_type": "display_data"
    },
    {
     "name": "stdout",
     "output_type": "stream",
     "text": [
      "\n",
      "Final Evaluation on Elderly (HeBERT):\n",
      "  Accuracy: 95.76%\n",
      "  Macro F1:  0.9531\n",
      "\n",
      "                   precision    recall  f1-score   support\n",
      "\n",
      "        alarm_set       1.00      0.94      0.97        77\n",
      "     calendar_set       0.98      0.98      0.98        62\n",
      "     call_contact       0.85      0.88      0.86        40\n",
      "     camera_query       1.00      0.96      0.98        57\n",
      "      iot_wemo_on       1.00      0.96      0.98        24\n",
      "lists_createoradd       0.97      1.00      0.98        56\n",
      "            query       0.98      0.96      0.97        49\n",
      "     send_message       0.97      0.84      0.90        44\n",
      "  transport_query       0.92      1.00      0.96       109\n",
      "    weather_query       0.89      1.00      0.94        24\n",
      "\n",
      "         accuracy                           0.96       542\n",
      "        macro avg       0.96      0.95      0.95       542\n",
      "     weighted avg       0.96      0.96      0.96       542\n",
      "\n",
      "\n",
      "Final Evaluation on Young (HeBERT):\n",
      "  Accuracy: 98.55%\n",
      "  Macro F1:  0.9745\n",
      "\n",
      "                   precision    recall  f1-score   support\n",
      "\n",
      "        alarm_set       0.98      1.00      0.99        57\n",
      "     calendar_set       1.00      0.98      0.99        51\n",
      "     call_contact       0.85      0.92      0.88        12\n",
      "     camera_query       0.97      0.97      0.97        29\n",
      "      iot_wemo_on       1.00      0.93      0.97        15\n",
      "lists_createoradd       0.98      1.00      0.99        47\n",
      "            query       1.00      1.00      1.00        18\n",
      "     send_message       1.00      0.94      0.97        31\n",
      "  transport_query       0.99      1.00      1.00       130\n",
      "    weather_query       1.00      1.00      1.00        25\n",
      "\n",
      "         accuracy                           0.99       415\n",
      "        macro avg       0.98      0.97      0.97       415\n",
      "     weighted avg       0.99      0.99      0.99       415\n",
      "\n"
     ]
    },
    {
     "data": {
      "application/vnd.jupyter.widget-view+json": {
       "model_id": "3e54c6d65f4f4fbdb0089b975ac71e9f",
       "version_major": 2,
       "version_minor": 0
      },
      "text/plain": [
       "config.json:   0%|          | 0.00/565 [00:00<?, ?B/s]"
      ]
     },
     "metadata": {},
     "output_type": "display_data"
    },
    {
     "data": {
      "application/vnd.jupyter.widget-view+json": {
       "model_id": "707ff8299e9b4a8d9b82ca761295c00a",
       "version_major": 2,
       "version_minor": 0
      },
      "text/plain": [
       "pytorch_model.bin:   0%|          | 0.00/504M [00:00<?, ?B/s]"
      ]
     },
     "metadata": {},
     "output_type": "display_data"
    },
    {
     "data": {
      "application/vnd.jupyter.widget-view+json": {
       "model_id": "4a30cd60563549d6a88d2c399ad6d86e",
       "version_major": 2,
       "version_minor": 0
      },
      "text/plain": [
       "model.safetensors:   0%|          | 0.00/504M [00:00<?, ?B/s]"
      ]
     },
     "metadata": {},
     "output_type": "display_data"
    },
    {
     "name": "stdout",
     "output_type": "stream",
     "text": [
      "\n",
      "Final Evaluation on Elderly (AlephBERT):\n",
      "  Accuracy: 97.05%\n",
      "  Macro F1:  0.9685\n",
      "\n",
      "                   precision    recall  f1-score   support\n",
      "\n",
      "        alarm_set       1.00      0.92      0.96        77\n",
      "     calendar_set       0.94      1.00      0.97        62\n",
      "     call_contact       0.88      0.95      0.92        40\n",
      "     camera_query       1.00      0.98      0.99        57\n",
      "      iot_wemo_on       1.00      1.00      1.00        24\n",
      "lists_createoradd       1.00      1.00      1.00        56\n",
      "            query       1.00      0.96      0.98        49\n",
      "     send_message       0.97      0.89      0.93        44\n",
      "  transport_query       0.96      1.00      0.98       109\n",
      "    weather_query       0.92      1.00      0.96        24\n",
      "\n",
      "         accuracy                           0.97       542\n",
      "        macro avg       0.97      0.97      0.97       542\n",
      "     weighted avg       0.97      0.97      0.97       542\n",
      "\n",
      "\n",
      "Final Evaluation on Young (AlephBERT):\n",
      "  Accuracy: 99.04%\n",
      "  Macro F1:  0.9821\n",
      "\n",
      "                   precision    recall  f1-score   support\n",
      "\n",
      "        alarm_set       0.98      1.00      0.99        57\n",
      "     calendar_set       1.00      0.98      0.99        51\n",
      "     call_contact       1.00      0.92      0.96        12\n",
      "     camera_query       0.97      0.97      0.97        29\n",
      "      iot_wemo_on       0.93      0.93      0.93        15\n",
      "lists_createoradd       1.00      1.00      1.00        47\n",
      "            query       1.00      1.00      1.00        18\n",
      "     send_message       0.97      1.00      0.98        31\n",
      "  transport_query       1.00      1.00      1.00       130\n",
      "    weather_query       1.00      1.00      1.00        25\n",
      "\n",
      "         accuracy                           0.99       415\n",
      "        macro avg       0.99      0.98      0.98       415\n",
      "     weighted avg       0.99      0.99      0.99       415\n",
      "\n"
     ]
    },
    {
     "data": {
      "application/vnd.jupyter.widget-view+json": {
       "model_id": "4de7c3260fad430dbe47170a3d3b09c4",
       "version_major": 2,
       "version_minor": 0
      },
      "text/plain": [
       "config.json:   0%|          | 0.00/570 [00:00<?, ?B/s]"
      ]
     },
     "metadata": {},
     "output_type": "display_data"
    },
    {
     "data": {
      "application/vnd.jupyter.widget-view+json": {
       "model_id": "0a2b0f594cdb487987943edd3682b616",
       "version_major": 2,
       "version_minor": 0
      },
      "text/plain": [
       "model.safetensors:   0%|          | 0.00/740M [00:00<?, ?B/s]"
      ]
     },
     "metadata": {},
     "output_type": "display_data"
    },
    {
     "name": "stdout",
     "output_type": "stream",
     "text": [
      "\n",
      "Final Evaluation on Elderly (AlephBERT-Gimmel):\n",
      "  Accuracy: 96.13%\n",
      "  Macro F1:  0.9540\n",
      "\n",
      "                   precision    recall  f1-score   support\n",
      "\n",
      "        alarm_set       1.00      0.95      0.97        77\n",
      "     calendar_set       0.98      1.00      0.99        62\n",
      "     call_contact       0.78      0.90      0.84        40\n",
      "     camera_query       0.98      1.00      0.99        57\n",
      "      iot_wemo_on       1.00      1.00      1.00        24\n",
      "lists_createoradd       0.97      1.00      0.98        56\n",
      "            query       1.00      0.94      0.97        49\n",
      "     send_message       1.00      0.77      0.87        44\n",
      "  transport_query       0.96      1.00      0.98       109\n",
      "    weather_query       0.89      1.00      0.94        24\n",
      "\n",
      "         accuracy                           0.96       542\n",
      "        macro avg       0.96      0.96      0.95       542\n",
      "     weighted avg       0.96      0.96      0.96       542\n",
      "\n",
      "\n",
      "Final Evaluation on Young (AlephBERT-Gimmel):\n",
      "  Accuracy: 99.04%\n",
      "  Macro F1:  0.9824\n",
      "\n",
      "                   precision    recall  f1-score   support\n",
      "\n",
      "        alarm_set       0.98      1.00      0.99        57\n",
      "     calendar_set       1.00      0.98      0.99        51\n",
      "     call_contact       1.00      1.00      1.00        12\n",
      "     camera_query       0.97      0.97      0.97        29\n",
      "      iot_wemo_on       0.93      0.87      0.90        15\n",
      "lists_createoradd       1.00      1.00      1.00        47\n",
      "            query       1.00      1.00      1.00        18\n",
      "     send_message       1.00      1.00      1.00        31\n",
      "  transport_query       1.00      1.00      1.00       130\n",
      "    weather_query       0.96      1.00      0.98        25\n",
      "\n",
      "         accuracy                           0.99       415\n",
      "        macro avg       0.98      0.98      0.98       415\n",
      "     weighted avg       0.99      0.99      0.99       415\n",
      "\n",
      "\n",
      "📊 Evaluation Summary vs Siri across all models:\n",
      "     Group  Total Samples  Siri Failures  Siri Successes  \\\n",
      "0  Elderly            542            179             363   \n",
      "1    Young            415            124             291   \n",
      "2  Elderly            542            179             363   \n",
      "3    Young            415            124             291   \n",
      "4  Elderly            542            179             363   \n",
      "5    Young            415            124             291   \n",
      "\n",
      "  Model Accuracy on Siri Failures Model Accuracy on Siri Successes  \\\n",
      "0                          94.41%                           96.42%   \n",
      "1                         100.00%                           97.94%   \n",
      "2                          96.09%                           97.52%   \n",
      "3                         100.00%                           98.63%   \n",
      "4                          94.41%                           96.97%   \n",
      "5                          99.19%                           98.97%   \n",
      "\n",
      "  Overall Accuracy Macro F1             Model  Batch Size  \n",
      "0           95.76%   0.9531            HeBERT          64  \n",
      "1           98.55%   0.9745            HeBERT          64  \n",
      "2           97.05%   0.9685         AlephBERT          64  \n",
      "3           99.04%   0.9821         AlephBERT          64  \n",
      "4           96.13%   0.9540  AlephBERT-Gimmel          32  \n",
      "5           99.04%   0.9824  AlephBERT-Gimmel          32  \n"
     ]
    }
   ],
   "source": [
    "# pre-define containers for each model & group\n",
    "preds_hebert_elderly = None\n",
    "preds_hebert_young = None\n",
    "preds_alephbert_elderly = None\n",
    "preds_alephbert_young = None\n",
    "preds_alephbertgimmel_elderly = None\n",
    "preds_alephbertgimmel_young = None\n",
    "\n",
    "def summarize_all_vs_siri(model_specs, dfs_with_label):\n",
    "    \"\"\"\n",
    "    model_specs: list of (model_dir, model_label, batch_size)\n",
    "    dfs_with_label: dict of {group_name: DataFrame_with_label_and_intent_num}\n",
    "    returns: DataFrame with one summary row per (group, model)\n",
    "    Also populates globals() with preds_<model>_<group> arrays.\n",
    "    \"\"\"\n",
    "    all_summaries = []\n",
    "    for model_dir, model_label, bs in model_specs:\n",
    "        # load model/tokenizer/intent_map\n",
    "        model, tokenizer, intent_map = load_saved_model(model_dir)\n",
    "        globals().update({'model': model, 'tokenizer': tokenizer, 'intent_map': intent_map})\n",
    "\n",
    "        for group_name, df in dfs_with_label.items():\n",
    "            # run evaluate() to get preds\n",
    "            acc, f1, preds, trues = evaluate(df, f\"{group_name} ({model_label})\", batch_size=bs)\n",
    "\n",
    "            # store preds in global variables named preds_<model>_<group>\n",
    "            var_name = f\"preds_{model_label.lower().replace('-', '')}_{group_name.lower()}\"\n",
    "            globals()[var_name] = preds\n",
    "\n",
    "            # compare vs Siri\n",
    "            summary = evaluate_vs_siri(df, preds, group_name, intent_map)\n",
    "            summary['Model'] = model_label\n",
    "            summary['Batch Size'] = bs\n",
    "            all_summaries.append(summary)\n",
    "\n",
    "    return pd.concat(all_summaries, ignore_index=True)\n",
    "\n",
    "# specify your saved-model folders, labels & batch sizes\n",
    "model_specs = [\n",
    "    (\"heBERT_complete_model\",          \"HeBERT\",           64),\n",
    "    (\"alephbert_complete_model\",       \"AlephBERT\",        64),\n",
    "    (\"alephbertgimmel_complete_model\", \"AlephBERT-Gimmel\",  32),\n",
    "]\n",
    "\n",
    "# these DataFrames must include 'label_intent' and 'intent_num'\n",
    "dfs_with_label = {\n",
    "    \"Elderly\": elderly_df,\n",
    "    \"Young\":   young_df,\n",
    "}\n",
    "\n",
    "# run summary\n",
    "summary_df = summarize_all_vs_siri(model_specs, dfs_with_label)\n",
    "\n",
    "print(\"\\n📊 Evaluation Summary vs Siri across all models:\")\n",
    "print(summary_df)\n",
    "\n"
   ]
  },
  {
   "cell_type": "markdown",
   "metadata": {
    "id": "M-DL-rqF0PeS"
   },
   "source": [
    "השוואת תוצאות לסירי:"
   ]
  },
  {
   "cell_type": "code",
   "execution_count": 14,
   "metadata": {
    "colab": {
     "base_uri": "https://localhost:8080/",
     "height": 497
    },
    "id": "r8FcW1osMYO9",
    "outputId": "1d0726f9-db68-4f4b-9570-d17e8c0cdec0"
   },
   "outputs": [
    {
     "data": {
      "image/png": "[encoded data removed]",
      "text/plain": [
       "<Figure size 1200x500 with 2 Axes>"
      ]
     },
     "metadata": {},
     "output_type": "display_data"
    }
   ],
   "source": [
    "\n",
    "# 1. Prepare plotting DataFrame\n",
    "plot_df = summary_df[['Group','Model','Overall Accuracy']].copy()\n",
    "# strip “%” and convert to float\n",
    "plot_df['Overall Accuracy'] = plot_df['Overall Accuracy'] \\\n",
    "                                .str.rstrip('%') \\\n",
    "                                .astype(float)\n",
    "\n",
    "# 2. Append Siri baseline values\n",
    "siri_baseline = [\n",
    "    {'Group':'Elderly', 'Model':'Siri', 'Overall Accuracy': elderly_df['label_intent'].mean()*100},\n",
    "    {'Group':'Young',   'Model':'Siri', 'Overall Accuracy': young_df['label_intent'].mean()*100},\n",
    "]\n",
    "plot_df = pd.concat([plot_df, pd.DataFrame(siri_baseline)], ignore_index=True)\n",
    "\n",
    "# 3. Define model & group order\n",
    "models = ['HeBERT','AlephBERT','AlephBERT-Gimmel','Siri']\n",
    "groups = ['Elderly','Young']\n",
    "x = np.arange(len(models))\n",
    "\n",
    "# 4. Plot\n",
    "fig, axs = plt.subplots(1, 2, figsize=(12,5), sharey=True)\n",
    "\n",
    "for i, grp in enumerate(groups):\n",
    "    grp_df = (plot_df[plot_df['Group']==grp]\n",
    "                .set_index('Model')\n",
    "                .loc[models]\n",
    "                .reset_index())\n",
    "\n",
    "    axs[i].bar(x, grp_df['Overall Accuracy'], color='royalblue')\n",
    "    axs[i].set_title(f\"{grp} Group\")\n",
    "    axs[i].set_xticks(x)\n",
    "    # make labels horizontal\n",
    "    axs[i].set_xticklabels(models, rotation=0, ha='center')\n",
    "    axs[i].set_ylim(0, 100)\n",
    "    if i == 0:\n",
    "        axs[i].set_ylabel(\"Overall Accuracy (%)\")\n",
    "\n",
    "    # annotate each bar\n",
    "    for j, val in enumerate(grp_df['Overall Accuracy']):\n",
    "        axs[i].text(x[j], val + 1, f\"{val:.1f}%\", ha='center')\n",
    "\n",
    "fig.suptitle(\"Models vs Siri — Overall Accuracy\")\n",
    "plt.tight_layout(rect=[0,0.03,1,0.95])\n",
    "plt.show()\n",
    "\n"
   ]
  },
  {
   "cell_type": "markdown",
   "metadata": {
    "id": "cC9y2kpy0G-9"
   },
   "source": [
    "שמירת דאטה סט - למודל ניסוח מחדש:\n",
    "\n",
    "הסיווג כונות של המודל ומה שנכשל בניסוי לטובת ניסוח מחדש\n"
   ]
  },
  {
   "cell_type": "code",
   "execution_count": 15,
   "metadata": {
    "colab": {
     "base_uri": "https://localhost:8080/"
    },
    "id": "Q3wEpXV_eOJS",
    "outputId": "95aea323-a1bf-4b7a-ae00-09cdf828c1ea"
   },
   "outputs": [
    {
     "name": "stdout",
     "output_type": "stream",
     "text": [
      "Saved filtered dataset with 509 samples → AlephBERT_predictions.csv\n"
     ]
    }
   ],
   "source": [
    "model_name = 'AlephBERT'\n",
    "\n",
    "# --- Young group ---\n",
    "df_young = young_df.copy()\n",
    "df_young['model_pred'] = preds_alephbert_young\n",
    "\n",
    "# keep only rows where Siri originally failed (label == 0)\n",
    "df_young = df_young[df_young['label'] == 0]\n",
    "\n",
    "# build a DataFrame with predicted intent, original Hebrew transcript, and group label\n",
    "ds_young = df_young[['model_pred', 'transcript_hebrew']].rename(\n",
    "    columns={\n",
    "        'model_pred': 'predicted_intent',\n",
    "        'transcript_hebrew': 'command'\n",
    "    }\n",
    ")\n",
    "ds_young['predicted_intent'] = ds_young['predicted_intent'].map(map_intent)\n",
    "ds_young['true_intent']      = df_young['intent_num'].map(map_intent)\n",
    "ds_young['group']            = 'Young'\n",
    "\n",
    "# --- Elderly group ---\n",
    "df_elderly = elderly_df.copy()\n",
    "df_elderly['model_pred'] = preds_alephbert_elderly\n",
    "\n",
    "# keep only rows where Siri originally failed (label == 0)\n",
    "df_elderly = df_elderly[df_elderly['label'] == 0]\n",
    "\n",
    "ds_elderly = df_elderly[['model_pred', 'transcript_hebrew']].rename(\n",
    "    columns={\n",
    "        'model_pred': 'predicted_intent',\n",
    "        'transcript_hebrew': 'command'\n",
    "    }\n",
    ")\n",
    "ds_elderly['predicted_intent'] = ds_elderly['predicted_intent'].map(map_intent)\n",
    "ds_elderly['true_intent']      = df_elderly['intent_num'].map(map_intent)\n",
    "ds_elderly['group']            = 'Elderly'\n",
    "\n",
    "# --- Combine both groups into one final dataset ---\n",
    "final_ds = pd.concat([ds_young, ds_elderly], ignore_index=True)\n",
    "\n",
    "# save the filtered model output to CSV with BOM for proper Hebrew encoding\n",
    "final_ds.to_csv(\n",
    "    f'{model_name}_predictions.csv',\n",
    "    index=False,\n",
    "    encoding='utf-8-sig'\n",
    ")\n",
    "print(f\"Saved filtered dataset with {len(final_ds)} samples → {model_name}_predictions.csv\")\n"
   ]
  }
 ],
 "metadata": {
  "colab": {
   "gpuType": "T4",
   "provenance": []
  },
  "kernelspec": {
   "display_name": "Python 3",
   "name": "python3"
  },
  "language_info": {
   "name": "python"
  }
 },
 "nbformat": 4,
 "nbformat_minor": 0
}
