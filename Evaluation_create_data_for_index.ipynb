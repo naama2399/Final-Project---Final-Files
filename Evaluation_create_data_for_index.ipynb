{
 "cells": [
  {
   "cell_type": "code",
   "execution_count": 1,
   "metadata": {
    "id": "9HIy9-2iNZs_"
   },
   "outputs": [],
   "source": [
    "import warnings\n",
    "from transformers import logging\n",
    "import os\n",
    "import json\n",
    "import pandas as pd\n",
    "import torch\n",
    "import torch.nn as nn\n",
    "from torch.utils.data import DataLoader, TensorDataset\n",
    "from transformers import AutoModel, AutoTokenizer\n",
    "from sklearn.preprocessing import LabelEncoder\n",
    "from sklearn.metrics import accuracy_score, f1_score, classification_report\n",
    "import zipfile\n",
    "import torch\n",
    "import pandas as pd\n",
    "import matplotlib.pyplot as plt\n",
    "import numpy as np\n",
    "\n",
    "\n",
    "device = torch.device(\"cuda\" if torch.cuda.is_available() else \"cpu\")\n",
    "\n",
    "\n",
    "# suppress all Python warnings\n",
    "warnings.filterwarnings(\"ignore\")\n",
    "\n",
    "# suppress Hugging Face `UserWarning`s and model loading messages\n",
    "logging.set_verbosity_error()"
   ]
  },
  {
   "cell_type": "code",
   "execution_count": 2,
   "metadata": {
    "colab": {
     "base_uri": "https://localhost:8080/"
    },
    "id": "k_hmAg3z-v3X",
    "outputId": "b6bce86a-e70c-43ed-ba8c-ef8634048b18"
   },
   "outputs": [
    {
     "name": "stdout",
     "output_type": "stream",
     "text": [
      "✅ Extracted to heBERT_complete_model\n",
      "✅ Extracted to alephbert_complete_model\n",
      "✅ Extracted to alephbertgimmel_complete_model\n"
     ]
    }
   ],
   "source": [
    "def extract(zip_path, extract_dir):\n",
    "    \"\"\"\n",
    "    Unzip zip_path into extract_dir if extract_dir does not already exist.\n",
    "    \"\"\"\n",
    "    if not os.path.isdir(extract_dir):\n",
    "        with zipfile.ZipFile(zip_path, 'r') as z:\n",
    "            z.extractall(extract_dir)\n",
    "        print(f\"✅ Extracted to {extract_dir}\")\n",
    "\n",
    "archives = [\n",
    "    ('/content/heBERT_model.zip',          'heBERT_complete_model'),\n",
    "    ('/content/alephbert_model.zip',       'alephbert_complete_model'),\n",
    "    ('/content/alephbertGimel_model.zip',  'alephbertgimmel_complete_model'),\n",
    "]\n",
    "\n",
    "\n",
    "for zip_path, extract_dir in archives:\n",
    "    extract(zip_path, extract_dir)"
   ]
  },
  {
   "cell_type": "code",
   "execution_count": 3,
   "metadata": {
    "id": "N5-lj3vkHFWH"
   },
   "outputs": [],
   "source": [
    "# 1. Load and fit label encoder on training intents\n",
    "train = pd.read_csv('/content/train.csv')\n",
    "le = LabelEncoder()\n",
    "le.fit(train['intent'])\n",
    "\n",
    "# 2. Load test datasets, drop duplicates, and encode labels\n",
    "elderly_df = pd.read_csv('/content/elderly.csv').drop_duplicates().reset_index(drop=True)\n",
    "young_df   = pd.read_csv('/content/young.csv').drop_duplicates().reset_index(drop=True)\n",
    "\n",
    "for df in (elderly_df, young_df):\n",
    "    df['intent_num'] = le.transform(df['intent'])"
   ]
  },
  {
   "cell_type": "code",
   "execution_count": 4,
   "metadata": {
    "colab": {
     "base_uri": "https://localhost:8080/"
    },
    "id": "RCVjCxcYrZgA",
    "outputId": "f37f8aae-910f-423a-f9d3-557dd50fcc5d"
   },
   "outputs": [
    {
     "name": "stdout",
     "output_type": "stream",
     "text": [
      "Found 3884 duplicate rows in train.csv.\n",
      "Train set size after deduplication: 2514 rows\n",
      "No duplicate rows found in elderly-test.csv.\n",
      "Elderly test set size after deduplication: 295 rows\n",
      "No duplicate rows found in young-test.csv.\n",
      "Young test set size after deduplication: 415 rows\n"
     ]
    }
   ],
   "source": [
    "# Check and remove duplicates in train\n",
    "train_duplicates = train.duplicated().sum()\n",
    "if train_duplicates > 0:\n",
    "    print(f\"Found {train_duplicates} duplicate rows in train.csv.\")\n",
    "    train = train.drop_duplicates()\n",
    "else:\n",
    "    print(\"No duplicate rows found in train.csv.\")\n",
    "print(f\"Train set size after deduplication: {len(train)} rows\")\n",
    "\n",
    "# Check and remove duplicates in elderly test set\n",
    "test_duplicates = elderly_df.duplicated().sum()\n",
    "if test_duplicates > 0:\n",
    "    print(f\"Found {test_duplicates} duplicate rows in elderly-test.csv.\")\n",
    "    elderly_df = elderly_df.drop_duplicates()\n",
    "else:\n",
    "    print(\"No duplicate rows found in elderly-test.csv.\")\n",
    "print(f\"Elderly test set size after deduplication: {len(elderly_df)} rows\")\n",
    "\n",
    "# Check and remove duplicates in young test set\n",
    "test_duplicates = young_df.duplicated().sum()\n",
    "if test_duplicates > 0:\n",
    "    print(f\"Found {test_duplicates} duplicate rows in young-test.csv.\")\n",
    "    young_df = young_df.drop_duplicates()\n",
    "else:\n",
    "    print(\"No duplicate rows found in young-test.csv.\")\n",
    "print(f\"Young test set size after deduplication: {len(young_df)} rows\")\n"
   ]
  },
  {
   "cell_type": "code",
   "execution_count": 5,
   "metadata": {
    "id": "h4-6TpRS3GQA"
   },
   "outputs": [],
   "source": [
    "# 3. Define the classification model wrapping a pretrained BERT\n",
    "class BertForIntentClassification(nn.Module):\n",
    "    def __init__(self, bert_model, num_classes):\n",
    "        super().__init__()\n",
    "        self.bert = bert_model\n",
    "        self.dropout = nn.Dropout(0.3)\n",
    "        self.classifier = nn.Linear(bert_model.config.hidden_size, num_classes)\n",
    "    def forward(self, input_ids, attention_mask):\n",
    "        outputs = self.bert(input_ids=input_ids, attention_mask=attention_mask)\n",
    "        cls_token = outputs.last_hidden_state[:, 0]  # take [CLS] token embedding\n",
    "        return self.classifier(self.dropout(cls_token))\n",
    "\n",
    "\n",
    "def load_saved_model(model_dir):\n",
    "    \"\"\"Load tokenizer, model and intent mapping from a saved folder.\"\"\"\n",
    "    import json, torch\n",
    "    from transformers import AutoModel, AutoTokenizer\n",
    "\n",
    "    # load config & intent map\n",
    "    with open(f\"{model_dir}/model_config.json\")   as f:\n",
    "        cfg = json.load(f)\n",
    "    with open(f\"{model_dir}/intent_mapping.json\") as f:\n",
    "        intent_map = json.load(f)\n",
    "\n",
    "    # load tokenizer and base transformer\n",
    "    tokenizer = AutoTokenizer.from_pretrained(f\"{model_dir}/tokenizer\")\n",
    "    base_model = AutoModel.from_pretrained(cfg[\"base_model_name\"])\n",
    "\n",
    "    # build classifier and load weights\n",
    "    model = BertForIntentClassification(base_model, cfg[\"num_classes\"])\n",
    "    state = torch.load(f\"{model_dir}/model_weights.pt\", map_location='cpu')\n",
    "    model.load_state_dict(state)\n",
    "    model.to(device)\n",
    "    model.eval()\n",
    "    return model, tokenizer, intent_map\n",
    "\n"
   ]
  },
  {
   "cell_type": "code",
   "execution_count": 14,
   "metadata": {
    "id": "9bYwYR8GDgk3"
   },
   "outputs": [],
   "source": [
    "# Encode labels\n",
    "le = LabelEncoder()\n",
    "train['intent_num'] = le.fit_transform(train['intent'])\n",
    "map_intent = dict(zip(le.transform(le.classes_), le.classes_))\n",
    "\n"
   ]
  },
  {
   "cell_type": "code",
   "execution_count": 6,
   "metadata": {
    "id": "jSmNJ0Jx4LYL"
   },
   "outputs": [],
   "source": [
    "# 5. Evaluation helper function\n",
    "def evaluate(df, label, batch_size=64):\n",
    "    texts  = df['transcript_hebrew'].tolist()\n",
    "    labels = df['intent_num'].tolist()\n",
    "\n",
    "    # Tokenize on CPU\n",
    "    enc = tokenizer(\n",
    "        texts,\n",
    "        padding=True,\n",
    "        truncation=True,\n",
    "        max_length=128,\n",
    "        return_tensors='pt'\n",
    "    )\n",
    "    # build dataset (still on CPU)\n",
    "    dataset = TensorDataset(\n",
    "        enc['input_ids'],\n",
    "        enc['attention_mask'],\n",
    "        torch.tensor(labels, dtype=torch.long)\n",
    "    )\n",
    "    loader = DataLoader(dataset, batch_size=batch_size, shuffle=False)\n",
    "\n",
    "    preds, trues = [], []\n",
    "    with torch.no_grad():\n",
    "        for input_ids, attention_mask, y in loader:\n",
    "            # move inputs to same device as model\n",
    "            input_ids      = input_ids.to(device)\n",
    "            attention_mask = attention_mask.to(device)\n",
    "\n",
    "            logits = model(input_ids, attention_mask)\n",
    "            batch_preds = torch.argmax(logits, dim=1)\n",
    "\n",
    "            # send preds back to CPU before converting\n",
    "            preds.extend(batch_preds.cpu().tolist())\n",
    "            trues.extend(y.tolist())\n",
    "\n",
    "    # compute metrics on CPU lists\n",
    "    acc = accuracy_score(trues, preds)\n",
    "    f1  = f1_score(trues, preds, average='macro')\n",
    "    print(f\"\\nFinal Evaluation on {label}:\")\n",
    "    print(f\"  Accuracy: {acc*100:.2f}%\")\n",
    "    print(f\"  Macro F1:  {f1:.4f}\\n\")\n",
    "    print(classification_report(\n",
    "        trues, preds,\n",
    "        target_names=[intent_map[str(i)] for i in sorted(set(trues + preds))]\n",
    "    ))\n",
    "\n",
    "    # return metrics + raw predictions + true labels\n",
    "    return acc, f1, preds, trues\n"
   ]
  },
  {
   "cell_type": "code",
   "execution_count": 7,
   "metadata": {
    "id": "n_AcUSC23p2Y"
   },
   "outputs": [],
   "source": [
    "def evaluate_vs_siri(df_with_label, preds, group_name, map_intent):\n",
    "    assert len(preds) == len(df_with_label), \"Mismatch between predictions and dataframe length\"\n",
    "\n",
    "    df_with_label = df_with_label.copy()\n",
    "    df_with_label[\"model_pred\"] = preds\n",
    "    df_with_label[\"is_correct\"] = df_with_label[\"intent_num\"] == df_with_label[\"model_pred\"]\n",
    "\n",
    "    # Grouping based on Siri performance\n",
    "    total = len(df_with_label)\n",
    "    siri_failures = df_with_label[df_with_label[\"label_intent\"] == 0]\n",
    "    siri_successes = df_with_label[df_with_label[\"label_intent\"] == 1]\n",
    "\n",
    "    # Model successes\n",
    "    correct_on_failures = siri_failures[\"is_correct\"].sum()\n",
    "    correct_on_successes = siri_successes[\"is_correct\"].sum()\n",
    "\n",
    "    # Accuracy rates\n",
    "    rate_correct_on_failures = correct_on_failures / len(siri_failures) if len(siri_failures) > 0 else None\n",
    "    rate_correct_on_successes = correct_on_successes / len(siri_successes) if len(siri_successes) > 0 else None\n",
    "    overall_accuracy = accuracy_score(df_with_label[\"intent_num\"], df_with_label[\"model_pred\"])\n",
    "    macro_f1 = f1_score(df_with_label[\"intent_num\"], df_with_label[\"model_pred\"], average=\"macro\")\n",
    "\n",
    "    # Summary table\n",
    "    summary = {\n",
    "        \"Group\": group_name,\n",
    "        \"Total Samples\": total,\n",
    "        \"Siri Failures\": len(siri_failures),\n",
    "        \"Siri Successes\": len(siri_successes),\n",
    "        \"Model Accuracy on Siri Failures\": f\"{rate_correct_on_failures:.2%}\" if rate_correct_on_failures is not None else \"N/A\",\n",
    "        \"Model Accuracy on Siri Successes\": f\"{rate_correct_on_successes:.2%}\" if rate_correct_on_successes is not None else \"N/A\",\n",
    "        \"Overall Accuracy\": f\"{overall_accuracy:.2%}\",\n",
    "        \"Macro F1\": f\"{macro_f1:.4f}\"\n",
    "    }\n",
    "\n",
    "    return pd.DataFrame([summary])\n"
   ]
  },
  {
   "cell_type": "code",
   "execution_count": 8,
   "metadata": {
    "colab": {
     "base_uri": "https://localhost:8080/",
     "height": 1000,
     "referenced_widgets": [
      "d29147e85dc642ae8727e513032aff1e",
      "c46c9aa2f53c4284aedfe00d06ce47cb",
      "310de1f5ec7743298e669a99b805d6c9",
      "a790fdbd1dd1438db57254b2361504c1",
      "f358d7b0ccfe44c59beb504a26becf9c",
      "ffd64cdbc83f48e087ae96b86e4991b6",
      "bc96f6b1f5cb46459a7d8bc99c7d8c6e",
      "a0cf85b715044c49bbc19444b441d305",
      "acf90e1bfe9f4174bbe3726b801d9e05",
      "3189b753019f49eda2fd1fb75f3b4d44",
      "be605985222240669b09f0dd93a2fc36",
      "97fad95a5b414420a399f4a92a480d71",
      "3a1ce33afa734fb28954e3599ab829dd",
      "cef25a2660144670bfd648fa310154d9",
      "d94178c895b24a8294bb670c885b3a38",
      "583240e4b22148e4940ed23e6f38c0fd",
      "5158c23390fa422eaee87dc0751ca9eb",
      "383e81b6d6064621807871261565c1f5",
      "76fe273ca5024c5693e2f979c404667d",
      "023cbd46a6a3434a8db8660b5d0541cd",
      "69220f8994a84953a48c836ea16feab4",
      "b62da7d405804129adb9b4c25c8d4e7a",
      "24f80a06fc084b0894ccd53efee87772",
      "55a026c8eb274234ac5707f5fb0f2122",
      "879eb9ff6b61406988f4d5b3ec6b19d1",
      "6bfd128ace444c549db6407951a51e10",
      "0330927ac8804f64b625ca03969e30dd",
      "8d8f15bcd4e244bebfb86fcb32e77c30",
      "c13b333966224f06a124911e029b9cb3",
      "ba6021abd0db4744a565dbd3cbae576f",
      "7b9f78369ae745dcaafdad0b8fc937a0",
      "10a96ebef4dc4cd6adc2c1f95d0e540c",
      "7da8c3d2f9c24a6a8d1a221115818348",
      "42931f10cecc43e6b36a318ef127ef87",
      "8ff36aa1395545209a8ec3b8d9a85a34",
      "28d942de77e04d71a10c81036de18dc5",
      "fd7b3b56f1094c18a17a0fcff4b2aebd",
      "510032c82ff54b129354197f1f3ef432",
      "a630786ee8a442d39a6195b6fc8c6c58",
      "7f09e224165a4dd7bf2f97aff9730850",
      "4f568ed43e6345eea637ccaded76ef22",
      "230c947f929341ce86845cc39b6d41c0",
      "d92f7cd13f69400ebeea317aa6e38342",
      "ee9b51f649ea4eb0a6f68cbf97545ac9",
      "735de1e49787437ca99f22ac79ae81ec",
      "84c1f3143c6246ee8f958760adde7b3e",
      "55b857e2b4b14dac89fb01207d649576",
      "c9809aaebf4f4539b7e5723a42daf095",
      "2f9d9a2e9f314c698b26c2777690dbd3",
      "26d03e9c1a6840d8b954a54b45c34a0d",
      "99b3cce220b8442cb6234a17a1be4146",
      "91bc1a3a4ae44848b460925d2092d66e",
      "6da8c4d70ad44308ada4e622de805a24",
      "fd060cc2c3114e5c9f3ad9fc2b4e00e0",
      "76db2c4e6ffe407181ff07b9c0081914",
      "6240597ca99642229c97ef29a418d89d",
      "17d1a8cc55954455a383ff9464f4f341",
      "5602220160ae491fa053440e6fc7be64",
      "295c84b08ed24393b84eea14028283db",
      "98a8f306c50b4468b56d64a03c8aa3b3",
      "97784e86d08742d8bf6e5c215d8a67de",
      "1727a402bd5947e99d46c9eb791bc670",
      "5f3292945995486c8b0c6027972142b1",
      "b97fd5ecf2054bc6a9396c825aa38b17",
      "795ab187da68402199d91503624baa1a",
      "ce9f7971add54094bacf0ee065926b7f",
      "bbab64bd801c4f488574acb751f89305",
      "6e08e7c5d64344a98ae5b351995640b3",
      "cde8bf28311840abbbcc15399d99fea5",
      "285ad85bd9bc499889352d74062925fc",
      "9b8219684bfe455697c43c3a94cbe6ba",
      "d76ef499487a4bfba6494dcb9770ea46",
      "e851ea0e2670447fb57d83e72237d3e9",
      "e1c5b58e210d4863a2c2e52bd210b598",
      "c960bce9e09b4a53affa27d25475b646",
      "a87de9a18bbf4fc7be1c1b0a231e2fe4",
      "0aa6bb178da54dc881c4e93dc7d34942",
      "a805d5b3dbed4d488d9010295b5bd48e",
      "bb1233183e7540fd947d6b3503f77235",
      "08c30fd087334d49a8dfec06db1c9d00",
      "1e66d06f35bb463da2094083f946e969",
      "96df716c37584c119898d5dcad07f25a",
      "03d88b6767334bf5b8790c982ff99ab5",
      "85b03c4a862b4c7cb36d53728e284769",
      "4868812061cb41779f41312ed1544615",
      "94b9782d79f741ea9b751ef691c0aa1c",
      "0991afe7fee04161a870a21c9e5327ab",
      "df967cb50e3148ec80efb87da5631299"
     ]
    },
    "id": "KL-gsyuiD3Wu",
    "outputId": "16f7eb3e-3286-4394-8083-9d10326e3445"
   },
   "outputs": [
    {
     "data": {
      "application/vnd.jupyter.widget-view+json": {
       "model_id": "d29147e85dc642ae8727e513032aff1e",
       "version_major": 2,
       "version_minor": 0
      },
      "text/plain": [
       "config.json:   0%|          | 0.00/505 [00:00<?, ?B/s]"
      ]
     },
     "metadata": {},
     "output_type": "display_data"
    },
    {
     "data": {
      "application/vnd.jupyter.widget-view+json": {
       "model_id": "97fad95a5b414420a399f4a92a480d71",
       "version_major": 2,
       "version_minor": 0
      },
      "text/plain": [
       "pytorch_model.bin:   0%|          | 0.00/438M [00:00<?, ?B/s]"
      ]
     },
     "metadata": {},
     "output_type": "display_data"
    },
    {
     "data": {
      "application/vnd.jupyter.widget-view+json": {
       "model_id": "24f80a06fc084b0894ccd53efee87772",
       "version_major": 2,
       "version_minor": 0
      },
      "text/plain": [
       "model.safetensors:   0%|          | 0.00/438M [00:00<?, ?B/s]"
      ]
     },
     "metadata": {},
     "output_type": "display_data"
    },
    {
     "name": "stdout",
     "output_type": "stream",
     "text": [
      "\n",
      "Final Evaluation on Elderly (HeBERT):\n",
      "  Accuracy: 94.58%\n",
      "  Macro F1:  0.9437\n",
      "\n",
      "                   precision    recall  f1-score   support\n",
      "\n",
      "        alarm_set       1.00      0.97      0.98        33\n",
      "     calendar_set       1.00      0.97      0.98        33\n",
      "     call_contact       0.88      0.81      0.85        27\n",
      "     camera_query       1.00      0.93      0.96        28\n",
      "      iot_wemo_on       1.00      0.91      0.95        11\n",
      "lists_createoradd       0.94      1.00      0.97        32\n",
      "            query       1.00      0.92      0.96        25\n",
      "     send_message       0.95      0.83      0.88        23\n",
      "  transport_query       0.89      1.00      0.94        73\n",
      "    weather_query       0.91      1.00      0.95        10\n",
      "\n",
      "         accuracy                           0.95       295\n",
      "        macro avg       0.96      0.93      0.94       295\n",
      "     weighted avg       0.95      0.95      0.95       295\n",
      "\n",
      "\n",
      "Final Evaluation on Young (HeBERT):\n",
      "  Accuracy: 98.55%\n",
      "  Macro F1:  0.9745\n",
      "\n",
      "                   precision    recall  f1-score   support\n",
      "\n",
      "        alarm_set       0.98      1.00      0.99        57\n",
      "     calendar_set       1.00      0.98      0.99        51\n",
      "     call_contact       0.85      0.92      0.88        12\n",
      "     camera_query       0.97      0.97      0.97        29\n",
      "      iot_wemo_on       1.00      0.93      0.97        15\n",
      "lists_createoradd       0.98      1.00      0.99        47\n",
      "            query       1.00      1.00      1.00        18\n",
      "     send_message       1.00      0.94      0.97        31\n",
      "  transport_query       0.99      1.00      1.00       130\n",
      "    weather_query       1.00      1.00      1.00        25\n",
      "\n",
      "         accuracy                           0.99       415\n",
      "        macro avg       0.98      0.97      0.97       415\n",
      "     weighted avg       0.99      0.99      0.99       415\n",
      "\n"
     ]
    },
    {
     "data": {
      "application/vnd.jupyter.widget-view+json": {
       "model_id": "42931f10cecc43e6b36a318ef127ef87",
       "version_major": 2,
       "version_minor": 0
      },
      "text/plain": [
       "config.json:   0%|          | 0.00/565 [00:00<?, ?B/s]"
      ]
     },
     "metadata": {},
     "output_type": "display_data"
    },
    {
     "data": {
      "application/vnd.jupyter.widget-view+json": {
       "model_id": "735de1e49787437ca99f22ac79ae81ec",
       "version_major": 2,
       "version_minor": 0
      },
      "text/plain": [
       "pytorch_model.bin:   0%|          | 0.00/504M [00:00<?, ?B/s]"
      ]
     },
     "metadata": {},
     "output_type": "display_data"
    },
    {
     "data": {
      "application/vnd.jupyter.widget-view+json": {
       "model_id": "6240597ca99642229c97ef29a418d89d",
       "version_major": 2,
       "version_minor": 0
      },
      "text/plain": [
       "model.safetensors:   0%|          | 0.00/504M [00:00<?, ?B/s]"
      ]
     },
     "metadata": {},
     "output_type": "display_data"
    },
    {
     "name": "stdout",
     "output_type": "stream",
     "text": [
      "\n",
      "Final Evaluation on Elderly (AlephBERT):\n",
      "  Accuracy: 95.25%\n",
      "  Macro F1:  0.9526\n",
      "\n",
      "                   precision    recall  f1-score   support\n",
      "\n",
      "        alarm_set       1.00      0.88      0.94        33\n",
      "     calendar_set       0.89      1.00      0.94        33\n",
      "     call_contact       0.83      0.93      0.88        27\n",
      "     camera_query       1.00      0.96      0.98        28\n",
      "      iot_wemo_on       1.00      1.00      1.00        11\n",
      "lists_createoradd       1.00      1.00      1.00        32\n",
      "            query       1.00      0.92      0.96        25\n",
      "     send_message       0.95      0.78      0.86        23\n",
      "  transport_query       0.95      1.00      0.97        73\n",
      "    weather_query       1.00      1.00      1.00        10\n",
      "\n",
      "         accuracy                           0.95       295\n",
      "        macro avg       0.96      0.95      0.95       295\n",
      "     weighted avg       0.96      0.95      0.95       295\n",
      "\n",
      "\n",
      "Final Evaluation on Young (AlephBERT):\n",
      "  Accuracy: 99.04%\n",
      "  Macro F1:  0.9821\n",
      "\n",
      "                   precision    recall  f1-score   support\n",
      "\n",
      "        alarm_set       0.98      1.00      0.99        57\n",
      "     calendar_set       1.00      0.98      0.99        51\n",
      "     call_contact       1.00      0.92      0.96        12\n",
      "     camera_query       0.97      0.97      0.97        29\n",
      "      iot_wemo_on       0.93      0.93      0.93        15\n",
      "lists_createoradd       1.00      1.00      1.00        47\n",
      "            query       1.00      1.00      1.00        18\n",
      "     send_message       0.97      1.00      0.98        31\n",
      "  transport_query       1.00      1.00      1.00       130\n",
      "    weather_query       1.00      1.00      1.00        25\n",
      "\n",
      "         accuracy                           0.99       415\n",
      "        macro avg       0.99      0.98      0.98       415\n",
      "     weighted avg       0.99      0.99      0.99       415\n",
      "\n"
     ]
    },
    {
     "data": {
      "application/vnd.jupyter.widget-view+json": {
       "model_id": "bbab64bd801c4f488574acb751f89305",
       "version_major": 2,
       "version_minor": 0
      },
      "text/plain": [
       "config.json:   0%|          | 0.00/570 [00:00<?, ?B/s]"
      ]
     },
     "metadata": {},
     "output_type": "display_data"
    },
    {
     "data": {
      "application/vnd.jupyter.widget-view+json": {
       "model_id": "a805d5b3dbed4d488d9010295b5bd48e",
       "version_major": 2,
       "version_minor": 0
      },
      "text/plain": [
       "model.safetensors:   0%|          | 0.00/740M [00:00<?, ?B/s]"
      ]
     },
     "metadata": {},
     "output_type": "display_data"
    },
    {
     "name": "stdout",
     "output_type": "stream",
     "text": [
      "\n",
      "Final Evaluation on Elderly (AlephBERT-Gimel):\n",
      "  Accuracy: 94.92%\n",
      "  Macro F1:  0.9426\n",
      "\n",
      "                   precision    recall  f1-score   support\n",
      "\n",
      "        alarm_set       1.00      0.97      0.98        33\n",
      "     calendar_set       1.00      1.00      1.00        33\n",
      "     call_contact       0.77      0.85      0.81        27\n",
      "     camera_query       0.97      1.00      0.98        28\n",
      "      iot_wemo_on       1.00      1.00      1.00        11\n",
      "lists_createoradd       0.94      1.00      0.97        32\n",
      "            query       1.00      0.88      0.94        25\n",
      "     send_message       1.00      0.70      0.82        23\n",
      "  transport_query       0.95      1.00      0.97        73\n",
      "    weather_query       0.91      1.00      0.95        10\n",
      "\n",
      "         accuracy                           0.95       295\n",
      "        macro avg       0.95      0.94      0.94       295\n",
      "     weighted avg       0.95      0.95      0.95       295\n",
      "\n",
      "\n",
      "Final Evaluation on Young (AlephBERT-Gimel):\n",
      "  Accuracy: 99.04%\n",
      "  Macro F1:  0.9824\n",
      "\n",
      "                   precision    recall  f1-score   support\n",
      "\n",
      "        alarm_set       0.98      1.00      0.99        57\n",
      "     calendar_set       1.00      0.98      0.99        51\n",
      "     call_contact       1.00      1.00      1.00        12\n",
      "     camera_query       0.97      0.97      0.97        29\n",
      "      iot_wemo_on       0.93      0.87      0.90        15\n",
      "lists_createoradd       1.00      1.00      1.00        47\n",
      "            query       1.00      1.00      1.00        18\n",
      "     send_message       1.00      1.00      1.00        31\n",
      "  transport_query       1.00      1.00      1.00       130\n",
      "    weather_query       0.96      1.00      0.98        25\n",
      "\n",
      "         accuracy                           0.99       415\n",
      "        macro avg       0.98      0.98      0.98       415\n",
      "     weighted avg       0.99      0.99      0.99       415\n",
      "\n",
      "\n",
      "📊 Evaluation Summary vs Siri across all models:\n",
      "     Group  Total Samples  Siri Failures  Siri Successes  \\\n",
      "0  Elderly            295            113             182   \n",
      "1    Young            415            124             291   \n",
      "2  Elderly            295            113             182   \n",
      "3    Young            415            124             291   \n",
      "4  Elderly            295            113             182   \n",
      "5    Young            415            124             291   \n",
      "\n",
      "  Model Accuracy on Siri Failures Model Accuracy on Siri Successes  \\\n",
      "0                          92.04%                           96.15%   \n",
      "1                         100.00%                           97.94%   \n",
      "2                          93.81%                           96.15%   \n",
      "3                         100.00%                           98.63%   \n",
      "4                          92.04%                           96.70%   \n",
      "5                          99.19%                           98.97%   \n",
      "\n",
      "  Overall Accuracy Macro F1            Model  Batch Size  \n",
      "0           94.58%   0.9437           HeBERT          64  \n",
      "1           98.55%   0.9745           HeBERT          64  \n",
      "2           95.25%   0.9526        AlephBERT          64  \n",
      "3           99.04%   0.9821        AlephBERT          64  \n",
      "4           94.92%   0.9426  AlephBERT-Gimel          32  \n",
      "5           99.04%   0.9824  AlephBERT-Gimel          32  \n"
     ]
    }
   ],
   "source": [
    "# pre-define containers for each model & group\n",
    "preds_hebert_elderly = None\n",
    "preds_hebert_young = None\n",
    "preds_alephbert_elderly = None\n",
    "preds_alephbert_young = None\n",
    "preds_alephbertgimel_elderly = None\n",
    "preds_alephbertgimel_young = None\n",
    "\n",
    "def summarize_all_vs_siri(model_specs, dfs_with_label):\n",
    "    \"\"\"\n",
    "    model_specs: list of (model_dir, model_label, batch_size)\n",
    "    dfs_with_label: dict of {group_name: DataFrame_with_label_and_intent_num}\n",
    "    returns: DataFrame with one summary row per (group, model)\n",
    "    Also populates globals() with preds_<model>_<group> arrays.\n",
    "    \"\"\"\n",
    "    all_summaries = []\n",
    "    for model_dir, model_label, bs in model_specs:\n",
    "        # load model/tokenizer/intent_map\n",
    "        model, tokenizer, intent_map = load_saved_model(model_dir)\n",
    "        globals().update({'model': model, 'tokenizer': tokenizer, 'intent_map': intent_map})\n",
    "\n",
    "        for group_name, df in dfs_with_label.items():\n",
    "            # run evaluate() to get preds\n",
    "            acc, f1, preds, trues = evaluate(df, f\"{group_name} ({model_label})\", batch_size=bs)\n",
    "\n",
    "            # store preds in global variables named preds_<model>_<group>\n",
    "            var_name = f\"preds_{model_label.lower().replace('-', '')}_{group_name.lower()}\"\n",
    "            globals()[var_name] = preds\n",
    "\n",
    "            # compare vs Siri\n",
    "            summary = evaluate_vs_siri(df, preds, group_name, intent_map)\n",
    "            summary['Model'] = model_label\n",
    "            summary['Batch Size'] = bs\n",
    "            all_summaries.append(summary)\n",
    "\n",
    "    return pd.concat(all_summaries, ignore_index=True)\n",
    "\n",
    "# specify your saved-model folders, labels & batch sizes\n",
    "model_specs = [\n",
    "    (\"heBERT_complete_model\",          \"HeBERT\",           64),\n",
    "    (\"alephbert_complete_model\",       \"AlephBERT\",        64),\n",
    "    (\"alephbertgimmel_complete_model\", \"AlephBERT-Gimel\",  32),\n",
    "]\n",
    "\n",
    "# these DataFrames must include 'label_intent' and 'intent_num'\n",
    "dfs_with_label = {\n",
    "    \"Elderly\": elderly_df,\n",
    "    \"Young\":   young_df,\n",
    "}\n",
    "\n",
    "# run summary\n",
    "summary_df = summarize_all_vs_siri(model_specs, dfs_with_label)\n",
    "\n",
    "print(\"\\n📊 Evaluation Summary vs Siri across all models:\")\n",
    "print(summary_df)\n",
    "\n"
   ]
  },
  {
   "cell_type": "markdown",
   "metadata": {
    "id": "M-DL-rqF0PeS"
   },
   "source": [
    "השוואת תוצאות לסירי:"
   ]
  },
  {
   "cell_type": "code",
   "execution_count": 9,
   "metadata": {
    "colab": {
     "base_uri": "https://localhost:8080/",
     "height": 497
    },
    "id": "r8FcW1osMYO9",
    "outputId": "a741ef7d-508a-4254-b4ef-c9d4a4e50074"
   },
   "outputs": [
    {
     "data": {
      "image/png": "[encoded data removed]",
      "text/plain": [
       "<Figure size 1200x500 with 2 Axes>"
      ]
     },
     "metadata": {},
     "output_type": "display_data"
    }
   ],
   "source": [
    "\n",
    "# 1. Prepare plotting DataFrame\n",
    "plot_df = summary_df[['Group','Model','Overall Accuracy']].copy()\n",
    "# strip “%” and convert to float\n",
    "plot_df['Overall Accuracy'] = plot_df['Overall Accuracy'] \\\n",
    "                                .str.rstrip('%') \\\n",
    "                                .astype(float)\n",
    "\n",
    "# 2. Append Siri baseline values\n",
    "siri_baseline = [\n",
    "    {'Group':'Elderly', 'Model':'Siri', 'Overall Accuracy': elderly_df['label_intent'].mean()*100},\n",
    "    {'Group':'Young',   'Model':'Siri', 'Overall Accuracy': young_df['label_intent'].mean()*100},\n",
    "]\n",
    "plot_df = pd.concat([plot_df, pd.DataFrame(siri_baseline)], ignore_index=True)\n",
    "\n",
    "# 3. Define model & group order\n",
    "models = ['HeBERT','AlephBERT','AlephBERT-Gimel','Siri']\n",
    "groups = ['Elderly','Young']\n",
    "x = np.arange(len(models))\n",
    "\n",
    "# 4. Plot\n",
    "fig, axs = plt.subplots(1, 2, figsize=(12,5), sharey=True)\n",
    "\n",
    "for i, grp in enumerate(groups):\n",
    "    grp_df = (plot_df[plot_df['Group']==grp]\n",
    "                .set_index('Model')\n",
    "                .loc[models]\n",
    "                .reset_index())\n",
    "\n",
    "    axs[i].bar(x, grp_df['Overall Accuracy'], color='royalblue')\n",
    "    axs[i].set_title(f\"{grp} Group\")\n",
    "    axs[i].set_xticks(x)\n",
    "    # make labels horizontal\n",
    "    axs[i].set_xticklabels(models, rotation=0, ha='center')\n",
    "    axs[i].set_ylim(0, 100)\n",
    "    if i == 0:\n",
    "        axs[i].set_ylabel(\"Overall Accuracy (%)\")\n",
    "\n",
    "    # annotate each bar\n",
    "    for j, val in enumerate(grp_df['Overall Accuracy']):\n",
    "        axs[i].text(x[j], val + 1, f\"{val:.1f}%\", ha='center')\n",
    "\n",
    "fig.suptitle(\"Models vs Siri — Overall Accuracy\")\n",
    "plt.tight_layout(rect=[0,0.03,1,0.95])\n",
    "plt.show()\n",
    "\n"
   ]
  },
  {
   "cell_type": "markdown",
   "metadata": {
    "id": "cC9y2kpy0G-9"
   },
   "source": [
    "שמירת דאטה סט - למודל ניסוח מחדש:\n",
    "\n",
    "הסיווג כונות של המודל ומה שנכשל בניסוי לטובת ניסוח מחדש\n"
   ]
  },
  {
   "cell_type": "code",
   "execution_count": 20,
   "metadata": {
    "colab": {
     "base_uri": "https://localhost:8080/"
    },
    "id": "Q3wEpXV_eOJS",
    "outputId": "858bd9e0-179f-44ec-98a0-a2160f86f9bb"
   },
   "outputs": [
    {
     "name": "stdout",
     "output_type": "stream",
     "text": [
      "Saved filtered dataset with 382 samples → AlephBERT_predictions.csv\n"
     ]
    }
   ],
   "source": [
    "model_name = 'AlephBERT'\n",
    "\n",
    "# --- Young group ---\n",
    "df_young = young_df.copy()\n",
    "df_young['model_pred'] = preds_alephbert_young\n",
    "\n",
    "# keep only rows where Siri originally failed (label == 0)\n",
    "df_young = df_young[df_young['label'] == 0]\n",
    "\n",
    "# build a DataFrame with predicted intent, original Hebrew transcript, and group label\n",
    "ds_young = df_young[['model_pred', 'transcript_hebrew']].rename(\n",
    "    columns={\n",
    "        'model_pred': 'predicted_intent',\n",
    "        'transcript_hebrew': 'command'\n",
    "    }\n",
    ")\n",
    "ds_young['predicted_intent'] = ds_young['predicted_intent'].map(map_intent)\n",
    "ds_young['true_intent']      = df_young['intent_num'].map(map_intent)\n",
    "ds_young['group']            = 'Young'\n",
    "\n",
    "# --- Elderly group ---\n",
    "df_elderly = elderly_df.copy()\n",
    "df_elderly['model_pred'] = preds_alephbert_elderly\n",
    "\n",
    "# keep only rows where Siri originally failed (label == 0)\n",
    "df_elderly = df_elderly[df_elderly['label'] == 0]\n",
    "\n",
    "ds_elderly = df_elderly[['model_pred', 'transcript_hebrew']].rename(\n",
    "    columns={\n",
    "        'model_pred': 'predicted_intent',\n",
    "        'transcript_hebrew': 'command'\n",
    "    }\n",
    ")\n",
    "ds_elderly['predicted_intent'] = ds_elderly['predicted_intent'].map(map_intent)\n",
    "ds_elderly['true_intent']      = df_elderly['intent_num'].map(map_intent)\n",
    "ds_elderly['group']            = 'Elderly'\n",
    "\n",
    "# --- Combine both groups into one final dataset ---\n",
    "final_ds = pd.concat([ds_young, ds_elderly], ignore_index=True)\n",
    "\n",
    "# save the filtered model output to CSV with BOM for proper Hebrew encoding\n",
    "final_ds.to_csv(\n",
    "    f'{model_name}_predictions.csv',\n",
    "    index=False,\n",
    "    encoding='utf-8-sig'\n",
    ")\n",
    "print(f\"Saved filtered dataset with {len(final_ds)} samples → {model_name}_predictions.csv\")\n"
   ]
  }
 ],
 "metadata": {
  "accelerator": "GPU",
  "colab": {
   "gpuType": "T4",
   "provenance": []
  },
  "kernelspec": {
   "display_name": "Python 3",
   "name": "python3"
  },
  "language_info": {
   "name": "python"
  }
 },
 "nbformat": 4,
 "nbformat_minor": 0
}
